{
 "cells": [
  {
   "cell_type": "code",
   "execution_count": 1,
   "metadata": {},
   "outputs": [],
   "source": [
    "import pandas as pd\n",
    "import numpy as np\n",
    "import matplotlib.pyplot as plt\n",
    "import seaborn as sns\n",
    "import dash\n",
    "from dash import html, dcc, dash_table, Input, Output\n",
    "import plotly.express as px"
   ]
  },
  {
   "cell_type": "code",
   "execution_count": 3,
   "metadata": {},
   "outputs": [
    {
     "data": {
      "text/html": [
       "<div>\n",
       "<style scoped>\n",
       "    .dataframe tbody tr th:only-of-type {\n",
       "        vertical-align: middle;\n",
       "    }\n",
       "\n",
       "    .dataframe tbody tr th {\n",
       "        vertical-align: top;\n",
       "    }\n",
       "\n",
       "    .dataframe thead th {\n",
       "        text-align: right;\n",
       "    }\n",
       "</style>\n",
       "<table border=\"1\" class=\"dataframe\">\n",
       "  <thead>\n",
       "    <tr style=\"text-align: right;\">\n",
       "      <th></th>\n",
       "      <th>revenue</th>\n",
       "      <th>gender</th>\n",
       "      <th>age</th>\n",
       "      <th>engaged_last_30</th>\n",
       "      <th>lifecycle</th>\n",
       "      <th>days_since_last_order</th>\n",
       "      <th>previous_order_amount</th>\n",
       "      <th>3rd_party_stores</th>\n",
       "    </tr>\n",
       "  </thead>\n",
       "  <tbody>\n",
       "    <tr>\n",
       "      <th>0</th>\n",
       "      <td>72.98</td>\n",
       "      <td>1.0</td>\n",
       "      <td>59.0</td>\n",
       "      <td>0.0</td>\n",
       "      <td>B</td>\n",
       "      <td>4.26</td>\n",
       "      <td>2343.870</td>\n",
       "      <td>0</td>\n",
       "    </tr>\n",
       "    <tr>\n",
       "      <th>1</th>\n",
       "      <td>200.99</td>\n",
       "      <td>1.0</td>\n",
       "      <td>51.0</td>\n",
       "      <td>0.0</td>\n",
       "      <td>A</td>\n",
       "      <td>0.94</td>\n",
       "      <td>8539.872</td>\n",
       "      <td>0</td>\n",
       "    </tr>\n",
       "    <tr>\n",
       "      <th>2</th>\n",
       "      <td>69.98</td>\n",
       "      <td>1.0</td>\n",
       "      <td>79.0</td>\n",
       "      <td>0.0</td>\n",
       "      <td>C</td>\n",
       "      <td>4.29</td>\n",
       "      <td>1687.646</td>\n",
       "      <td>1</td>\n",
       "    </tr>\n",
       "    <tr>\n",
       "      <th>3</th>\n",
       "      <td>649.99</td>\n",
       "      <td>NaN</td>\n",
       "      <td>NaN</td>\n",
       "      <td>NaN</td>\n",
       "      <td>C</td>\n",
       "      <td>14.90</td>\n",
       "      <td>3498.846</td>\n",
       "      <td>0</td>\n",
       "    </tr>\n",
       "    <tr>\n",
       "      <th>4</th>\n",
       "      <td>83.59</td>\n",
       "      <td>NaN</td>\n",
       "      <td>NaN</td>\n",
       "      <td>NaN</td>\n",
       "      <td>C</td>\n",
       "      <td>21.13</td>\n",
       "      <td>3968.490</td>\n",
       "      <td>4</td>\n",
       "    </tr>\n",
       "  </tbody>\n",
       "</table>\n",
       "</div>"
      ],
      "text/plain": [
       "   revenue  gender   age  engaged_last_30 lifecycle   days_since_last_order   \\\n",
       "0    72.98     1.0  59.0              0.0         B                     4.26   \n",
       "1   200.99     1.0  51.0              0.0         A                     0.94   \n",
       "2    69.98     1.0  79.0              0.0         C                     4.29   \n",
       "3   649.99     NaN   NaN              NaN         C                    14.90   \n",
       "4    83.59     NaN   NaN              NaN         C                    21.13   \n",
       "\n",
       "   previous_order_amount  3rd_party_stores  \n",
       "0               2343.870                 0  \n",
       "1               8539.872                 0  \n",
       "2               1687.646                 1  \n",
       "3               3498.846                 0  \n",
       "4               3968.490                 4  "
      ]
     },
     "execution_count": 3,
     "metadata": {},
     "output_type": "execute_result"
    }
   ],
   "source": [
    "file = \"sales situation on Xiaohongshu.csv\"\n",
    "df = pd.read_csv(file)\n",
    "df.head()"
   ]
  },
  {
   "cell_type": "markdown",
   "metadata": {},
   "source": [
    "Before we dive into the analysis, let’s check for missing values."
   ]
  },
  {
   "cell_type": "code",
   "execution_count": 4,
   "metadata": {},
   "outputs": [
    {
     "data": {
      "text/plain": [
       "revenue                        0\n",
       "gender                     11729\n",
       "age                        12736\n",
       "engaged_last_30            11729\n",
       "lifecycle                      0\n",
       " days_since_last_order         0\n",
       "previous_order_amount          0\n",
       "3rd_party_stores               0\n",
       "dtype: int64"
      ]
     },
     "execution_count": 4,
     "metadata": {},
     "output_type": "execute_result"
    }
   ],
   "source": [
    "df.isnull().sum()"
   ]
  },
  {
   "cell_type": "markdown",
   "metadata": {},
   "source": [
    "It turns out there are quite a lot missing values in age, gender and engaged_last_30. I'm considering filling in some of these gaps—like using the median for age and the mode for gender. For engaged_last_30, I assume missing means not engaged so I will fill with 0. \n",
    "\n",
    "Since the amount of missing data is pretty significant, I think just dropping those rows or leaving them empty isn't the best approach."
   ]
  },
  {
   "cell_type": "code",
   "execution_count": 5,
   "metadata": {},
   "outputs": [
    {
     "data": {
      "text/plain": [
       "revenue                    0\n",
       "gender                     0\n",
       "age                        0\n",
       "engaged_last_30            0\n",
       "lifecycle                  0\n",
       " days_since_last_order     0\n",
       "previous_order_amount      0\n",
       "3rd_party_stores           0\n",
       "dtype: int64"
      ]
     },
     "execution_count": 5,
     "metadata": {},
     "output_type": "execute_result"
    }
   ],
   "source": [
    "df['age'] = df['age'].fillna(df['age'].median())\n",
    "\n",
    "df['gender'] = df['gender'].fillna(df['gender'].mode()[0])\n",
    "\n",
    "df['engaged_last_30'] = df['engaged_last_30'].fillna(0)\n",
    "\n",
    "df.isnull().sum()"
   ]
  },
  {
   "cell_type": "markdown",
   "metadata": {},
   "source": [
    "Now, let's analyze user purchasing behavior and summarize key statistics."
   ]
  },
  {
   "cell_type": "code",
   "execution_count": 6,
   "metadata": {},
   "outputs": [
    {
     "data": {
      "text/html": [
       "<div>\n",
       "<style scoped>\n",
       "    .dataframe tbody tr th:only-of-type {\n",
       "        vertical-align: middle;\n",
       "    }\n",
       "\n",
       "    .dataframe tbody tr th {\n",
       "        vertical-align: top;\n",
       "    }\n",
       "\n",
       "    .dataframe thead th {\n",
       "        text-align: right;\n",
       "    }\n",
       "</style>\n",
       "<table border=\"1\" class=\"dataframe\">\n",
       "  <thead>\n",
       "    <tr style=\"text-align: right;\">\n",
       "      <th></th>\n",
       "      <th>revenue</th>\n",
       "      <th>gender</th>\n",
       "      <th>age</th>\n",
       "      <th>engaged_last_30</th>\n",
       "      <th>days_since_last_order</th>\n",
       "      <th>previous_order_amount</th>\n",
       "      <th>3rd_party_stores</th>\n",
       "    </tr>\n",
       "  </thead>\n",
       "  <tbody>\n",
       "    <tr>\n",
       "      <th>count</th>\n",
       "      <td>29452.000000</td>\n",
       "      <td>29452.000000</td>\n",
       "      <td>29452.000000</td>\n",
       "      <td>29452.000000</td>\n",
       "      <td>29452.000000</td>\n",
       "      <td>29452.000000</td>\n",
       "      <td>29452.000000</td>\n",
       "    </tr>\n",
       "    <tr>\n",
       "      <th>mean</th>\n",
       "      <td>398.288037</td>\n",
       "      <td>0.970359</td>\n",
       "      <td>60.225553</td>\n",
       "      <td>0.043970</td>\n",
       "      <td>7.711348</td>\n",
       "      <td>2348.904830</td>\n",
       "      <td>2.286059</td>\n",
       "    </tr>\n",
       "    <tr>\n",
       "      <th>std</th>\n",
       "      <td>960.251728</td>\n",
       "      <td>0.169599</td>\n",
       "      <td>11.168826</td>\n",
       "      <td>0.205032</td>\n",
       "      <td>6.489289</td>\n",
       "      <td>2379.774213</td>\n",
       "      <td>3.538219</td>\n",
       "    </tr>\n",
       "    <tr>\n",
       "      <th>min</th>\n",
       "      <td>0.020000</td>\n",
       "      <td>0.000000</td>\n",
       "      <td>18.000000</td>\n",
       "      <td>0.000000</td>\n",
       "      <td>0.130000</td>\n",
       "      <td>0.000000</td>\n",
       "      <td>0.000000</td>\n",
       "    </tr>\n",
       "    <tr>\n",
       "      <th>25%</th>\n",
       "      <td>74.970000</td>\n",
       "      <td>1.000000</td>\n",
       "      <td>58.000000</td>\n",
       "      <td>0.000000</td>\n",
       "      <td>2.190000</td>\n",
       "      <td>773.506250</td>\n",
       "      <td>0.000000</td>\n",
       "    </tr>\n",
       "    <tr>\n",
       "      <th>50%</th>\n",
       "      <td>175.980000</td>\n",
       "      <td>1.000000</td>\n",
       "      <td>60.000000</td>\n",
       "      <td>0.000000</td>\n",
       "      <td>5.970000</td>\n",
       "      <td>1655.980000</td>\n",
       "      <td>0.000000</td>\n",
       "    </tr>\n",
       "    <tr>\n",
       "      <th>75%</th>\n",
       "      <td>499.990000</td>\n",
       "      <td>1.000000</td>\n",
       "      <td>62.000000</td>\n",
       "      <td>0.000000</td>\n",
       "      <td>11.740000</td>\n",
       "      <td>3096.766500</td>\n",
       "      <td>3.000000</td>\n",
       "    </tr>\n",
       "    <tr>\n",
       "      <th>max</th>\n",
       "      <td>103466.100000</td>\n",
       "      <td>1.000000</td>\n",
       "      <td>99.000000</td>\n",
       "      <td>1.000000</td>\n",
       "      <td>23.710000</td>\n",
       "      <td>11597.900000</td>\n",
       "      <td>10.000000</td>\n",
       "    </tr>\n",
       "  </tbody>\n",
       "</table>\n",
       "</div>"
      ],
      "text/plain": [
       "             revenue        gender           age  engaged_last_30  \\\n",
       "count   29452.000000  29452.000000  29452.000000     29452.000000   \n",
       "mean      398.288037      0.970359     60.225553         0.043970   \n",
       "std       960.251728      0.169599     11.168826         0.205032   \n",
       "min         0.020000      0.000000     18.000000         0.000000   \n",
       "25%        74.970000      1.000000     58.000000         0.000000   \n",
       "50%       175.980000      1.000000     60.000000         0.000000   \n",
       "75%       499.990000      1.000000     62.000000         0.000000   \n",
       "max    103466.100000      1.000000     99.000000         1.000000   \n",
       "\n",
       "        days_since_last_order   previous_order_amount  3rd_party_stores  \n",
       "count             29452.000000           29452.000000      29452.000000  \n",
       "mean                  7.711348            2348.904830          2.286059  \n",
       "std                   6.489289            2379.774213          3.538219  \n",
       "min                   0.130000               0.000000          0.000000  \n",
       "25%                   2.190000             773.506250          0.000000  \n",
       "50%                   5.970000            1655.980000          0.000000  \n",
       "75%                  11.740000            3096.766500          3.000000  \n",
       "max                  23.710000           11597.900000         10.000000  "
      ]
     },
     "execution_count": 6,
     "metadata": {},
     "output_type": "execute_result"
    }
   ],
   "source": [
    "df.describe()"
   ]
  },
  {
   "cell_type": "markdown",
   "metadata": {},
   "source": [
    "In order to explore user purchasing trends, gender-based spending differences, and lifecycle-based spending behavior, I will draw different graph below."
   ]
  },
  {
   "cell_type": "markdown",
   "metadata": {},
   "source": [
    "#1 Revenue Distribution (Histogram)\n",
    "It gives us a clear picture of how much people are spending."
   ]
  },
  {
   "cell_type": "code",
   "execution_count": 7,
   "metadata": {},
   "outputs": [
    {
     "data": {
      "image/png": "[encoded data removed]",
      "text/plain": [
       "<Figure size 800x500 with 1 Axes>"
      ]
     },
     "metadata": {},
     "output_type": "display_data"
    }
   ],
   "source": [
    "plt.figure(figsize=(8,5))\n",
    "df[df['revenue'] < 1000]['revenue'].hist(bins=50, color='skyblue', edgecolor='black')\n",
    "plt.title('Revenue Distribution (Limited Range)')\n",
    "plt.xlabel('Revenue')\n",
    "plt.ylabel('Frequency')\n",
    "plt.show()"
   ]
  },
  {
   "cell_type": "markdown",
   "metadata": {},
   "source": [
    "This histogram shows how users are spending on Xiaohongshu, focusing on purchases under 1000. Looking at the chart, we can see it is a right-skewed distribution. As spending goes up, the frequency of transactions drops, suggesting that the majority of users prefer to spend smaller amounts. Besides, the highest point on the graph is close to 0, which indicates that many users are making small purchases. The next peak around 200 might reflect a pricing strategy or a typical behavior among users."
   ]
  },
  {
   "cell_type": "markdown",
   "metadata": {},
   "source": [
    "#2 User Engagement vs. Revenue (Box Plot)  \n",
    "We can see whether users who are more engaged actually tend to spend more."
   ]
  },
  {
   "cell_type": "code",
   "execution_count": 8,
   "metadata": {},
   "outputs": [
    {
     "data": {
      "image/png": "[encoded data removed]",
      "text/plain": [
       "<Figure size 600x400 with 1 Axes>"
      ]
     },
     "metadata": {},
     "output_type": "display_data"
    }
   ],
   "source": [
    "plt.figure(figsize=(6,4))\n",
    "sns.boxplot(x=df['engaged_last_30'], y=df['revenue'], color='skyblue', showfliers=False)\n",
    "plt.title('User Engagement vs. Revenue')\n",
    "plt.xlabel('Engaged in Last 30 Days')\n",
    "plt.ylabel('Revenue')\n",
    "plt.show()"
   ]
  },
  {
   "cell_type": "markdown",
   "metadata": {},
   "source": [
    "This box plot visualizes the relationship between user engagement and revenue. The two categories (0.0 and 1.0) on the x-axis represent users who did not engage in discussions or photo-sharing in the last 30 days and users who did engage in discussions or photo-sharing in the last 30 days. Based on the graph above, we can see the median revenue for engaged users is higher than for non-engaged users, meaning that users who actively engage in the community tend to spend more than those who do not participate. Additionally, the whiskers extend further up for engaged users, suggesting that the highest-spending users are more likely to be engaged."
   ]
  },
  {
   "cell_type": "markdown",
   "metadata": {},
   "source": [
    "#3 Gender-Based Purchasing Trends (Box Plot)\n",
    "It compares spending differences between male and female users."
   ]
  },
  {
   "cell_type": "code",
   "execution_count": 9,
   "metadata": {},
   "outputs": [
    {
     "data": {
      "image/png": "[encoded data removed]",
      "text/plain": [
       "<Figure size 600x400 with 1 Axes>"
      ]
     },
     "metadata": {},
     "output_type": "display_data"
    }
   ],
   "source": [
    "plt.figure(figsize=(6,4))\n",
    "sns.boxplot(x=df['gender'], y=df['revenue'], color='skyblue', showfliers=False)\n",
    "plt.title('Gender vs. Revenue')\n",
    "plt.xlabel('Gender (0=Female, 1=Male)')\n",
    "plt.ylabel('Revenue')\n",
    "plt.show()"
   ]
  },
  {
   "cell_type": "markdown",
   "metadata": {},
   "source": [
    "The box plot shows how much male and female users spend on Xiaohongshu. We can see that they spend similarly on average, but male spending is more varied with a wider distribution and higher outliers. Female users exhibit a tighter spending range, indicating more consistent spending patterns, meaning targeted promotions could effectively increase their spending."
   ]
  },
  {
   "cell_type": "markdown",
   "metadata": {},
   "source": [
    "#4 Lifecycle vs. Spending Patterns (Bar Chart)\n",
    "It helps determine if longer-registered users actually spend more money. Bar chart is a great way to visualize the total revenue for each category in the lifecycle."
   ]
  },
  {
   "cell_type": "code",
   "execution_count": 10,
   "metadata": {},
   "outputs": [
    {
     "data": {
      "image/png": "[encoded data removed]",
      "text/plain": [
       "<Figure size 600x400 with 1 Axes>"
      ]
     },
     "metadata": {},
     "output_type": "display_data"
    }
   ],
   "source": [
    "plt.figure(figsize=(6,4))\n",
    "sns.barplot(x=df['lifecycle'], y=df['revenue'], estimator=sum)\n",
    "plt.title('Lifecycle Stage vs. Total Revenue')\n",
    "plt.xlabel('Lifecycle Stage(A=6 months, B=1 year, C=2 years)')\n",
    "plt.ylabel('Total Revenue')\n",
    "plt.show()"
   ]
  },
  {
   "cell_type": "markdown",
   "metadata": {},
   "source": [
    "The bar chart shows that users registered for 2 years generate the highest total revenue, indicating longer-term users tend to spend more. In contrast, users registered for 6 months contribute the least revenue, suggesting new users take time to develop purchasing habits."
   ]
  },
  {
   "cell_type": "markdown",
   "metadata": {},
   "source": [
    "#5 Average Revenue by Gender (Dash)\n",
    "Using Dash allows real-time exploration of how average revenue varies by gender, providing a more interactive approach compared to static visualizations."
   ]
  },
  {
   "cell_type": "code",
   "execution_count": 5,
   "metadata": {},
   "outputs": [
    {
     "data": {
      "text/html": [
       "\n",
       "        <iframe\n",
       "            width=\"100%\"\n",
       "            height=\"650\"\n",
       "            src=\"http://127.0.0.1:8050/\"\n",
       "            frameborder=\"0\"\n",
       "            allowfullscreen\n",
       "            \n",
       "        ></iframe>\n",
       "        "
      ],
      "text/plain": [
       "<IPython.lib.display.IFrame at 0x12a3ef4d0>"
      ]
     },
     "metadata": {},
     "output_type": "display_data"
    }
   ],
   "source": [
    "app = dash.Dash(__name__)  \n",
    "\n",
    "df = pd.read_csv(\"sales situation on Xiaohongshu.csv\")\n",
    "df = df.sample(n=1000)\n",
    "df.columns = df.columns.str.lower()\n",
    "\n",
    "app.layout = html.Div([\n",
    "    html.H1(\"Xiaohongshu User Analytics\", style={'textAlign': 'center'}),\n",
    "\n",
    "    dcc.RadioItems(\n",
    "        options=['revenue', 'previous_order_amount'],\n",
    "        value='revenue',\n",
    "        inline=True,\n",
    "        id='data-selector'\n",
    "    ),\n",
    "\n",
    "    html.Div([\n",
    "        dash_table.DataTable(data=df.to_dict('records'), page_size=10, style_table={'overflowX': 'auto'}),\n",
    "        dcc.Graph(id='histo-chart')\n",
    "    ])\n",
    "])\n",
    "\n",
    "@app.callback(\n",
    "    Output('histo-chart', 'figure'),\n",
    "    Input('data-selector', 'value')\n",
    ")\n",
    "def update_graph(col_chosen):\n",
    "    fig = px.histogram(df, x='gender', y=col_chosen, histfunc='avg', title=f'Average {col_chosen} by Gender')\n",
    "    return fig\n",
    "\n",
    "if __name__ == '__main__':\n",
    "    app.run_server(mode='external', debug=True)"
   ]
  },
  {
   "cell_type": "markdown",
   "metadata": {},
   "source": [
    "To make the project easier to visualize and analyze, I pulled a sample of 1000 rows for better performance. I made sure to change all the column names to lowercase and removed any missing values to keep things accurate. I also set a limit on revenue at 1000 to reduce the impact of outliers. At first look, it seems like male and female users spend similarly, with no major differences. However, since it's interactive, you can use filters like engagement status or lifecycle stage. This way, you’ll discover that engaged users actually show a larger spending gap between the genders."
   ]
  }
 ],
 "metadata": {
  "kernelspec": {
   "display_name": ".venv",
   "language": "python",
   "name": "python3"
  },
  "language_info": {
   "codemirror_mode": {
    "name": "ipython",
    "version": 3
   },
   "file_extension": ".py",
   "mimetype": "text/x-python",
   "name": "python",
   "nbconvert_exporter": "python",
   "pygments_lexer": "ipython3",
   "version": "3.13.1"
  }
 },
 "nbformat": 4,
 "nbformat_minor": 2
}
